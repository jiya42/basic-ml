{
  "nbformat": 4,
  "nbformat_minor": 0,
  "metadata": {
    "colab": {
      "provenance": [],
      "authorship_tag": "ABX9TyNq/PZfCjtSWeY1jeuNlzbF",
      "include_colab_link": true
    },
    "kernelspec": {
      "name": "python3",
      "display_name": "Python 3"
    },
    "language_info": {
      "name": "python"
    }
  },
  "cells": [
    {
      "cell_type": "markdown",
      "metadata": {
        "id": "view-in-github",
        "colab_type": "text"
      },
      "source": [
        "<a href=\"https://colab.research.google.com/github/jiya42/basic-ml/blob/main/pythoncodeexamples.ipynb\" target=\"_parent\"><img src=\"https://colab.research.google.com/assets/colab-badge.svg\" alt=\"Open In Colab\"/></a>"
      ]
    },
    {
      "cell_type": "markdown",
      "source": [
        "## 1. Program to find largest of three numbers\n",
        "\n",
        "\n",
        "- **step 1**:enter numbers\n",
        "- **step 2**:check for largest number among three numbers using if-elif-else\n",
        "- **step 3**:display the numbers"
      ],
      "metadata": {
        "id": "g-WN0SIqAr7X"
      }
    },
    {
      "cell_type": "code",
      "source": [
        "\"\"\"\n",
        "# Python program to find the largest number among the three input numbers\n",
        "\"\"\"\n",
        "#num1 = 40\n",
        "#num2 = 24\n",
        "#num3 = 32\n",
        "#uncomment following lines to take three numbers from user\n",
        "num1 = float(input(\"Enter first number: \"))\n",
        "num2 = float(input(\"Enter second number: \"))\n",
        "num3 = float(input(\"Enter third number: \"))\n",
        "if (num1 >= num2) and (num1 >= num3):\n",
        "   largest = num1\n",
        "elif (num2 >= num1) and (num2 >= num3):\n",
        "   largest = num2\n",
        "else:\n",
        "   largest = num3\n",
        "print(\"The largest number is\", largest)"
      ],
      "metadata": {
        "colab": {
          "base_uri": "https://localhost:8080/"
        },
        "id": "coE2HB0VAusu",
        "outputId": "f6909153-9e62-4e63-84a9-b26130415e3c"
      },
      "execution_count": null,
      "outputs": [
        {
          "output_type": "stream",
          "name": "stdout",
          "text": [
            "Enter first number: 40\n",
            "Enter second number: 24\n",
            "Enter third number: 32\n",
            "The largest number is 40.0\n"
          ]
        }
      ]
    },
    {
      "cell_type": "markdown",
      "source": [
        "----\n",
        "## 2.Printing multiplication table\n",
        "\n",
        "- **step 1**:assign num=12\n",
        "- **step 2**:Iterate 10 times from i = 1 to 10 using for loop\n",
        "- **step 3**:multiply num*i\n",
        "- **step 4**:display the numbers"
      ],
      "metadata": {
        "id": "r9AL8gvzCccM"
      }
    },
    {
      "cell_type": "code",
      "source": [
        "# Multiplication table (from 1 to 10) in Python\n",
        "\n",
        "num = 12\n",
        "\n",
        "# To take input from the user\n",
        "# num = int(input(\"Display multiplication table of? \"))\n",
        "\n",
        "# Iterate 10 times from i = 1 to 10\n",
        "for i in range(1, 11):\n",
        "   print(num, 'x', i, '=', num*i)"
      ],
      "metadata": {
        "colab": {
          "base_uri": "https://localhost:8080/"
        },
        "id": "0lOv3BPfCutV",
        "outputId": "99fd85f4-fd2f-42ce-c6cb-1e81eba24031"
      },
      "execution_count": null,
      "outputs": [
        {
          "output_type": "stream",
          "name": "stdout",
          "text": [
            "12 x 1 = 12\n",
            "12 x 2 = 24\n",
            "12 x 3 = 36\n",
            "12 x 4 = 48\n",
            "12 x 5 = 60\n",
            "12 x 6 = 72\n",
            "12 x 7 = 84\n",
            "12 x 8 = 96\n",
            "12 x 9 = 108\n",
            "12 x 10 = 120\n"
          ]
        }
      ]
    },
    {
      "cell_type": "markdown",
      "source": [
        "----\n",
        ">**Task:** Get an integer less than 12 from the user and display its's ,multiplication table.\n",
        "\n",
        "\n",
        "- **step 1**:read the number from user\n",
        "- **step 2**:Iterate 10 times from i = 1 to 10 using for loop\n",
        "- **step 3**:multiply num*i\n",
        "- **step 4**:display the numbers"
      ],
      "metadata": {
        "id": "lFq_95jvDrou"
      }
    },
    {
      "cell_type": "code",
      "source": [
        "# To take input from the user\n",
        "num = int(input(\"Display multiplication table of? \"))\n",
        "\n",
        "# Iterate 10 times from i = 1 to 10\n",
        "for i in range(1, 11):\n",
        "   print(i, 'x', num, '=', num*i)"
      ],
      "metadata": {
        "colab": {
          "base_uri": "https://localhost:8080/"
        },
        "id": "zOW5Moz8D9OM",
        "outputId": "481937e6-59fc-4a54-9a0f-96437c028d5e"
      },
      "execution_count": null,
      "outputs": [
        {
          "output_type": "stream",
          "name": "stdout",
          "text": [
            "Display multiplication table of? 9\n",
            "1 x 9 = 9\n",
            "2 x 9 = 18\n",
            "3 x 9 = 27\n",
            "4 x 9 = 36\n",
            "5 x 9 = 45\n",
            "6 x 9 = 54\n",
            "7 x 9 = 63\n",
            "8 x 9 = 72\n",
            "9 x 9 = 81\n",
            "10 x 9 = 90\n"
          ]
        }
      ]
    },
    {
      "cell_type": "markdown",
      "source": [
        "------\n",
        "## 3.Check for sign of a number\n",
        "\n",
        "\n",
        "- **step 1**:read the number from user\n",
        "- **step 2**:check if num greater than 0 or equal to 0 or less than 0\n",
        "- **step 3**:display the message **bold text**"
      ],
      "metadata": {
        "id": "u6Gq6ZKbEhrD"
      }
    },
    {
      "cell_type": "code",
      "source": [
        "num = float(input(\"Enter a number: \"))\n",
        "if num > 0:\n",
        "   print(\"Positive number\")\n",
        "elif num == 0:\n",
        "   print(\"Zero\")\n",
        "else:\n",
        "   print(\"Negative number\")"
      ],
      "metadata": {
        "colab": {
          "base_uri": "https://localhost:8080/"
        },
        "id": "fN0EuzHpFDe6",
        "outputId": "3f4b8ec8-0b45-4ffc-c585-2a1b0818b692"
      },
      "execution_count": null,
      "outputs": [
        {
          "output_type": "stream",
          "name": "stdout",
          "text": [
            "Enter a number: -0.9\n",
            "Negative number\n"
          ]
        }
      ]
    },
    {
      "cell_type": "markdown",
      "source": [
        "-----\n",
        "## 4. Find surface area and volume of a cylinder\n",
        "\n",
        "Let $r$ is the base radius and $h$ is the height of a right circular cylinder.\n",
        "$$SA=2\\pi r(r+h)$$\n",
        "\n",
        "$$V=\\pi r^2 h$$\n",
        "\n",
        "- **step 1**:import pi from math\n",
        "- **step 2**: assign values for pi,h,r\n",
        "- **step 3**:compute SA=2*pi*r*(r+h)\n",
        "- **step 4**: compute V=pi*r**2*h\n",
        "- **step 5**: display SA and V"
      ],
      "metadata": {
        "id": "7Xh-eXdvFLjG"
      }
    },
    {
      "cell_type": "code",
      "source": [
        "#from math import pi\n",
        "pi=3.14\n",
        "r=2.6\n",
        "h=1.6\n",
        "SA=2*pi*r*(r+h)\n",
        "V=pi*r**2*h\n",
        "print((\"Surface Area is {} and Volume is {}\").format(SA,V))"
      ],
      "metadata": {
        "colab": {
          "base_uri": "https://localhost:8080/"
        },
        "id": "cuwcUIFhFPfW",
        "outputId": "098bb355-bcf1-4f5d-91bf-43d86896a110"
      },
      "execution_count": null,
      "outputs": [
        {
          "output_type": "stream",
          "name": "stdout",
          "text": [
            "Surface Area is 68.57760000000002 and Volume is 33.96224\n"
          ]
        }
      ]
    },
    {
      "cell_type": "markdown",
      "source": [
        "----\n",
        "## 5.*Find* area of a circle with radius $r$ using user input\n",
        "\n",
        "- **step 1**:read input from user\n",
        "- **step 2**:compute area=3.14*r**2\n",
        "- **step 3**:display the area\n"
      ],
      "metadata": {
        "id": "JBr41atlFSmz"
      }
    },
    {
      "cell_type": "code",
      "source": [
        "\"\"\"\n",
        "program to find area of a circle\n",
        "\"\"\"\n",
        "r=float(input(\"Enter the radius: \"))\n",
        "print(\"Area: \",pi*r**2)"
      ],
      "metadata": {
        "colab": {
          "base_uri": "https://localhost:8080/"
        },
        "id": "NicvGfRnFWBM",
        "outputId": "f5dfac1f-2a2a-451b-e2ac-9889b4093ce2"
      },
      "execution_count": null,
      "outputs": [
        {
          "output_type": "stream",
          "name": "stdout",
          "text": [
            "Enter the radius: 6.3\n",
            "Area:  124.6266\n"
          ]
        }
      ]
    },
    {
      "cell_type": "markdown",
      "source": [
        "----\n",
        "## 6.Find the area of a rectangle with lenght $l$ and breadth $b$\n",
        "\n",
        "- **step 1**:assign l=2,b=5.2\n",
        "- **step 2**:calculate area=l*b\n",
        "- **step 3**:display area"
      ],
      "metadata": {
        "id": "jTsbw4YbFX_L"
      }
    },
    {
      "cell_type": "code",
      "source": [
        "l=2;b=5.2\n",
        "Area=l*b\n",
        "print(\"Area of the Rectangle is : \",Area)"
      ],
      "metadata": {
        "colab": {
          "base_uri": "https://localhost:8080/"
        },
        "id": "0S8id7YwFbHz",
        "outputId": "bd7f1516-1dc7-464b-cb4c-78d3fb2d3530"
      },
      "execution_count": null,
      "outputs": [
        {
          "output_type": "stream",
          "name": "stdout",
          "text": [
            "Area of the Rectangle is :  10.4\n"
          ]
        }
      ]
    },
    {
      "cell_type": "markdown",
      "source": [
        "----\n",
        "## 7. Replacing a word with another word  in a sentence\n",
        "\n",
        "Use the `replace()` method in `python`\n",
        "\n",
        ">**Syntax:**\n",
        "\n",
        "```\n",
        "str.replace(old,new)\n",
        "```\n",
        "\n"
      ],
      "metadata": {
        "id": "tJlASJIbFdGL"
      }
    },
    {
      "cell_type": "markdown",
      "source": [
        "- **step 1**:read the text\n",
        "- **step 2**:replace hand with foot\n",
        "- **step 3**:display replaced text"
      ],
      "metadata": {
        "id": "IGTrKiHkGVjQ"
      }
    },
    {
      "cell_type": "code",
      "source": [
        "# program to replace a word by another word in a sentence\n",
        "\n",
        "text = 'hand ball is a hand full of hands'\n",
        "\n",
        "# replace 'hand' with 'foot'\n",
        "replaced_text = text.replace('hand ', 'foot ')\n",
        "print(replaced_text)"
      ],
      "metadata": {
        "colab": {
          "base_uri": "https://localhost:8080/"
        },
        "id": "cm65Be_VFiRl",
        "outputId": "4cf2af04-58a8-49ee-ea8e-c8f13e245664"
      },
      "execution_count": null,
      "outputs": [
        {
          "output_type": "stream",
          "name": "stdout",
          "text": [
            "foot ball is a foot full of hands\n"
          ]
        }
      ]
    },
    {
      "cell_type": "markdown",
      "source": [
        "---\n",
        "## 8.Program to remove a word from a sentence\n",
        "\n",
        "We will use the string method `remove()`.\n",
        "\n",
        ">**Syntax:**\n",
        "\n",
        "```\n",
        "str.remove(word to be removed)\n",
        "```"
      ],
      "metadata": {
        "id": "l64hg-EGFj3z"
      }
    },
    {
      "cell_type": "markdown",
      "source": [
        "- **step 1**:read the text and word from user\n",
        "- **step 2**:replace word with empty quotes (\"\")\n",
        "- **step 3**:display the updated sentence"
      ],
      "metadata": {
        "id": "YumZoEp6GXoY"
      }
    },
    {
      "cell_type": "code",
      "source": [
        "# program to remove a word from a sentence\n",
        "text = input(\"Enter the String: \")\n",
        "word = input(\"Enter a Word to Delete: \")\n",
        "\n",
        "text = text.replace(word, \"\")\n",
        "print(\"The updated sentence is:\\n\")\n",
        "print(text)"
      ],
      "metadata": {
        "colab": {
          "base_uri": "https://localhost:8080/"
        },
        "id": "lbUp0fL1Flpd",
        "outputId": "f9a41310-1db6-4d88-9b53-0f06655ecc89"
      },
      "execution_count": null,
      "outputs": [
        {
          "output_type": "stream",
          "name": "stdout",
          "text": [
            "Enter the String: He is my friend\n",
            "Enter a Word to Delete: my\n",
            "The updated sentence is:\n",
            "\n",
            "He is  friend\n"
          ]
        }
      ]
    },
    {
      "cell_type": "markdown",
      "source": [
        "\n",
        "- **step 1**:display the updated sentence\n",
        "- **step 2**:remove word from text\n",
        "- **step 3**:print text"
      ],
      "metadata": {
        "id": "CUMle0VoGY5I"
      }
    },
    {
      "cell_type": "code",
      "source": [
        "# program to remove a word from a sentence\n",
        "text = input(\"Enter the String: \")\n",
        "word = input(\"Enter a Word to Delete: \")\n",
        "\n",
        "text = text.remove(word)\n",
        "print(\"The updated sentence is:\\n\")\n",
        "print(text)"
      ],
      "metadata": {
        "id": "ZqB6guqNFpTL"
      },
      "execution_count": null,
      "outputs": []
    },
    {
      "cell_type": "markdown",
      "source": [
        "----\n",
        "## 9.Program to split a sentence into words\n",
        "\n",
        "use the `split()` method\n",
        ">**Syntax:**\n",
        "```\n",
        "str.split()\n",
        "```"
      ],
      "metadata": {
        "id": "CWoP7kpVFsZL"
      }
    },
    {
      "cell_type": "code",
      "source": [
        "wordlist = text.split()\n",
        "wordlist"
      ],
      "metadata": {
        "colab": {
          "base_uri": "https://localhost:8080/"
        },
        "id": "1w7SnBh3FtTb",
        "outputId": "edbbb631-5ceb-469c-a5dd-aa0d3f70efdd"
      },
      "execution_count": null,
      "outputs": [
        {
          "output_type": "execute_result",
          "data": {
            "text/plain": [
              "['He', 'is', 'my', 'friend']"
            ]
          },
          "metadata": {},
          "execution_count": 16
        }
      ]
    },
    {
      "cell_type": "markdown",
      "source": [
        "---\n",
        "## 10.Program to check if a list of words is in a long string at least one\n",
        "\n",
        "- **step 1**:assign a list with 'motorcycle', 'bike', 'bicycle', 'dirtbike', \"long\"\n",
        "- **step 2**:enter the text\n",
        "- **step 3**: check if any word in list found in text\n",
        "- **step 4**: then display found one"
      ],
      "metadata": {
        "id": "2ftgFm1tFvGE"
      }
    },
    {
      "cell_type": "code",
      "source": [
        "# program to check atleat one occurance of keywords\n",
        "\n",
        "keyword_list = ['motorcycle', 'bike', 'bicycle', 'dirtbike', \"long\"]\n",
        "all_text = 'The bicycle is just as good company as most husbands and, when it gets old and shabby, a woman can dispose of it and get a new one without shocking the entire community'\n",
        "if set(keyword_list).intersection(all_text.split()):\n",
        "     print(\"Found One\")"
      ],
      "metadata": {
        "colab": {
          "base_uri": "https://localhost:8080/"
        },
        "id": "pk2AgsyzFysz",
        "outputId": "f5def081-c628-4d79-a3a4-1dd1351627e0"
      },
      "execution_count": null,
      "outputs": [
        {
          "output_type": "stream",
          "name": "stdout",
          "text": [
            "Found One\n"
          ]
        }
      ]
    },
    {
      "cell_type": "markdown",
      "source": [
        "He is my friend"
      ],
      "metadata": {
        "id": "3QVtbaKDKPSI"
      }
    },
    {
      "cell_type": "code",
      "source": [
        "num = int(input(\"Enter the Number: \"))\n",
        "if num%2==0:\n",
        "    print(\"\\n\",num,\"is an Even Number\")\n",
        "else:\n",
        "    print(\"\\n\",num,\"is an Odd Number\")"
      ],
      "metadata": {
        "colab": {
          "base_uri": "https://localhost:8080/"
        },
        "id": "4clw_zRpLjkx",
        "outputId": "33a8f261-42f4-4088-bcbd-4a2fc77f503a"
      },
      "execution_count": null,
      "outputs": [
        {
          "output_type": "stream",
          "name": "stdout",
          "text": [
            "Enter the Number: 6\n",
            "\n",
            " 6 is an Even Number\n"
          ]
        }
      ]
    },
    {
      "cell_type": "markdown",
      "source": [
        "----\n",
        "## 11.Program to check whether an entered one is an alphabet or *not*\n",
        "\n",
        "- **step 1**:input a character\n",
        "- **step 2**:check if its a alphabet or not\n",
        "- **step 3**:display appropriate message\n"
      ],
      "metadata": {
        "id": "k5E0jrccLmkB"
      }
    },
    {
      "cell_type": "code",
      "source": [
        "c = input(\"Enter a Character: \")\n",
        "if c>='a' and c<='z':\n",
        "    print(\"\\nIt is an alphabet\")\n",
        "elif c>='A' and c<='z':\n",
        "    print(\"\\nIt is an alphabet\")\n",
        "else:\n",
        "    print(\"\\nIt is not an alphabet!\")"
      ],
      "metadata": {
        "colab": {
          "base_uri": "https://localhost:8080/"
        },
        "id": "_pXOoaJPLp0C",
        "outputId": "6f78f717-22c7-4144-dd8b-2cb06e236d19"
      },
      "execution_count": null,
      "outputs": [
        {
          "output_type": "stream",
          "name": "stdout",
          "text": [
            "Enter a Character: k\n",
            "\n",
            "It is an alphabet\n"
          ]
        }
      ]
    },
    {
      "cell_type": "markdown",
      "source": [
        "---\n",
        "## 12.Program to check whether an entered letter is a vowel or not\n",
        "\n",
        "- **step 1**:input a character\n",
        "- **step 2**:check if its vowel or consonant\n",
        "- **step 3**:display appropriate message"
      ],
      "metadata": {
        "id": "A37v0vkTLsgp"
      }
    },
    {
      "cell_type": "code",
      "source": [
        "c = input(\"Enter the Character: \")\n",
        "v={'a','e','i','o','u','A','E','I','O','U'}\n",
        "if c in v:\n",
        "    print(\"\\nIt is a Vowel\")\n",
        "else:\n",
        "    print(\"\\nIt is a Consonant\")"
      ],
      "metadata": {
        "colab": {
          "base_uri": "https://localhost:8080/"
        },
        "id": "mdqjk076Lujo",
        "outputId": "18375261-c43f-4431-b7da-4b20a21365cd"
      },
      "execution_count": null,
      "outputs": [
        {
          "output_type": "stream",
          "name": "stdout",
          "text": [
            "Enter the Character: o\n",
            "\n",
            "It is a Vowel\n"
          ]
        }
      ]
    },
    {
      "cell_type": "markdown",
      "source": [
        ">**Another method**\n",
        "\n",
        "using `or` expression"
      ],
      "metadata": {
        "id": "uCQlBuEfLwth"
      }
    },
    {
      "cell_type": "code",
      "source": [
        "c = input(\"Enter the Character: \")\n",
        "\n",
        "if c=='a' or c=='e' or c=='i' or c=='o' or c=='u':\n",
        "    print(\"\\nIt is a Vowel\")\n",
        "elif c=='A' or c=='E' or c=='I' or c=='O' or c=='U':\n",
        "    print(\"\\nIt is a Vowel\")\n",
        "else:\n",
        "    print(\"\\nIt is a Consonant\")"
      ],
      "metadata": {
        "colab": {
          "base_uri": "https://localhost:8080/"
        },
        "id": "bPxcg4Y5L1vp",
        "outputId": "69f3cd37-a0dd-4959-c6f0-475d5a056260"
      },
      "execution_count": null,
      "outputs": [
        {
          "output_type": "stream",
          "name": "stdout",
          "text": [
            "Enter the Character: g\n",
            "\n",
            "It is a Consonant\n"
          ]
        }
      ]
    },
    {
      "cell_type": "markdown",
      "source": [
        "## Program to check leap year"
      ],
      "metadata": {
        "id": "2ctFa5ciL4cB"
      }
    },
    {
      "cell_type": "code",
      "source": [
        "y = int(input(\"Enter the Year: \"))\n",
        "\n",
        "if y%4==0 and y%100!=0:\n",
        "    print(\"\\nIt is a Leap Year\")\n",
        "elif y%400==0:\n",
        "    print(\"\\nIt is a Leap Year\")\n",
        "else:\n",
        "    print(\"\\nIt is not a Leap Year\")"
      ],
      "metadata": {
        "id": "8QQoJ-McL4Eh"
      },
      "execution_count": null,
      "outputs": []
    }
  ]
}